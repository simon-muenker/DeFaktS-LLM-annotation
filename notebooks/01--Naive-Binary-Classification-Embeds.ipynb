{
 "cells": [
  {
   "cell_type": "code",
   "execution_count": 32,
   "metadata": {},
   "outputs": [],
   "source": [
    "import typing\n",
    "\n",
    "import pandas\n",
    "import numpy\n",
    "import sentence_transformers\n",
    "\n",
    "import rich.progress"
   ]
  },
  {
   "cell_type": "code",
   "execution_count": 33,
   "metadata": {},
   "outputs": [],
   "source": [
    "from sklearn.feature_extraction.text import TfidfVectorizer\n",
    "from sklearn.metrics import classification_report\n",
    "\n",
    "from sklearn.ensemble import AdaBoostClassifier, RandomForestClassifier\n",
    "from sklearn.neighbors import KNeighborsClassifier\n",
    "from sklearn.neural_network import MLPClassifier\n",
    "from sklearn.tree import DecisionTreeClassifier\n",
    "from sklearn.svm import LinearSVC"
   ]
  },
  {
   "cell_type": "code",
   "execution_count": 34,
   "metadata": {},
   "outputs": [],
   "source": [
    "DATA_FILE: str = \"../data/processed/DefaktS_Twitter.binary.csv\"\n",
    "TEST_FRAC: float = 0.05"
   ]
  },
  {
   "cell_type": "code",
   "execution_count": 35,
   "metadata": {},
   "outputs": [
    {
     "data": {
      "text/html": [
       "<div>\n",
       "<style scoped>\n",
       "    .dataframe tbody tr th:only-of-type {\n",
       "        vertical-align: middle;\n",
       "    }\n",
       "\n",
       "    .dataframe tbody tr th {\n",
       "        vertical-align: top;\n",
       "    }\n",
       "\n",
       "    .dataframe thead th {\n",
       "        text-align: right;\n",
       "    }\n",
       "</style>\n",
       "<table border=\"1\" class=\"dataframe\">\n",
       "  <thead>\n",
       "    <tr style=\"text-align: right;\">\n",
       "      <th></th>\n",
       "      <th>text</th>\n",
       "      <th>label</th>\n",
       "    </tr>\n",
       "    <tr>\n",
       "      <th>id</th>\n",
       "      <th></th>\n",
       "      <th></th>\n",
       "    </tr>\n",
       "  </thead>\n",
       "  <tbody>\n",
       "    <tr>\n",
       "      <th>406778</th>\n",
       "      <td>Gut!\\n\\nDr. Gut: «Elon Musk und die Feinde der...</td>\n",
       "      <td>neutral_post</td>\n",
       "    </tr>\n",
       "    <tr>\n",
       "      <th>387950</th>\n",
       "      <td>#Brennholz kann in #Bayern viel an fossilen #E...</td>\n",
       "      <td>neutral_post</td>\n",
       "    </tr>\n",
       "    <tr>\n",
       "      <th>427946</th>\n",
       "      <td>Es besteht keine Notwendigkeit für Ihre Expert...</td>\n",
       "      <td>neutral_post</td>\n",
       "    </tr>\n",
       "    <tr>\n",
       "      <th>391007</th>\n",
       "      <td>BUNDESPRÄSIDENT EIN BRÜLLER😉? https://t.co/GAc...</td>\n",
       "      <td>neutral_post</td>\n",
       "    </tr>\n",
       "    <tr>\n",
       "      <th>429117</th>\n",
       "      <td>Die Chancen stehen gut, dass #Bitcoin selbst d...</td>\n",
       "      <td>neutral_post</td>\n",
       "    </tr>\n",
       "  </tbody>\n",
       "</table>\n",
       "</div>"
      ],
      "text/plain": [
       "                                                     text         label\n",
       "id                                                                     \n",
       "406778  Gut!\\n\\nDr. Gut: «Elon Musk und die Feinde der...  neutral_post\n",
       "387950  #Brennholz kann in #Bayern viel an fossilen #E...  neutral_post\n",
       "427946  Es besteht keine Notwendigkeit für Ihre Expert...  neutral_post\n",
       "391007  BUNDESPRÄSIDENT EIN BRÜLLER😉? https://t.co/GAc...  neutral_post\n",
       "429117  Die Chancen stehen gut, dass #Bitcoin selbst d...  neutral_post"
      ]
     },
     "execution_count": 35,
     "metadata": {},
     "output_type": "execute_result"
    }
   ],
   "source": [
    "DATA: pandas.DataFrame = (\n",
    "    pandas.read_csv(DATA_FILE, index_col=[0])\n",
    "    .replace(dict(binary_label={0.0: \"neutral_post\", 1.0: \"possible_fake_news\"}))\n",
    "    .rename(columns={\"binary_label\": \"label\"})\n",
    "\n",
    "    # remove urls\n",
    "    .pipe(lambda _df: _df.assign(text=(\n",
    "        _df[\"text\"].str\n",
    "        # replace urls with special token\n",
    "        .replace(r\"https?://\\S+|www\\.\\S+\", \"[URL]\")\n",
    "    )))\n",
    "\n",
    "    # downsample to smallest category\n",
    "    .pipe(lambda _df: (\n",
    "        _df\n",
    "        .groupby(\"label\")\n",
    "        .sample(n=min(_df[\"label\"].value_counts()))\n",
    "    ))\n",
    ")\n",
    "DATA.head()"
   ]
  },
  {
   "cell_type": "code",
   "execution_count": 36,
   "metadata": {},
   "outputs": [
    {
     "data": {
      "text/plain": [
       "label\n",
       "neutral_post          8225\n",
       "possible_fake_news    8225\n",
       "Name: count, dtype: int64"
      ]
     },
     "execution_count": 36,
     "metadata": {},
     "output_type": "execute_result"
    }
   ],
   "source": [
    "DATA[\"label\"].value_counts()"
   ]
  },
  {
   "cell_type": "code",
   "execution_count": 37,
   "metadata": {},
   "outputs": [
    {
     "data": {
      "text/plain": [
       "(15628, 822)"
      ]
     },
     "execution_count": 37,
     "metadata": {},
     "output_type": "execute_result"
    }
   ],
   "source": [
    "DATA_TRAIN = DATA.sample(frac=1.0 - TEST_FRAC)\n",
    "DATA_TEST = DATA.loc[DATA.index.difference(DATA_TRAIN.index)]\n",
    "\n",
    "len(DATA_TRAIN), len(DATA_TEST)"
   ]
  },
  {
   "cell_type": "code",
   "execution_count": 38,
   "metadata": {},
   "outputs": [],
   "source": [
    "model = sentence_transformers.SentenceTransformer(\"mixedbread-ai/mxbai-embed-large-v1\", device=\"cuda\")\n",
    "\n",
    "def embed(data: typing.List[str]) -> typing.List:\n",
    "\n",
    "    def batched(iterable, n=128):\n",
    "        l = len(iterable)\n",
    "\n",
    "        return [\n",
    "            iterable[ndx:min(ndx + n, l)]\n",
    "            for ndx in range(0, l, n)\n",
    "        ]\n",
    "\n",
    "    embeds: typing.List[numpy.ndarray] = []\n",
    "\n",
    "    for batch in rich.progress.track(batched(data)):\n",
    "    \n",
    "        try: \n",
    "            embed = model.encode(batch)\n",
    "            \n",
    "        except Exception as _e:\n",
    "            display(_e)\n",
    "            embed = None\n",
    "        \n",
    "        embeds.extend(embed)\n",
    "\n",
    "    return embeds"
   ]
  },
  {
   "cell_type": "code",
   "execution_count": 39,
   "metadata": {},
   "outputs": [],
   "source": [
    "ENCODERS: typing.Dict[str, typing.Dict[str, typing.Callable]] = {\n",
    "    \"tfidf\": {\n",
    "        \"engine\": (tfidf := TfidfVectorizer()),\n",
    "        \"embed_train\": lambda x: tfidf.fit_transform(x),\n",
    "        \"embed_test\": lambda x: tfidf.transform(x),\n",
    "    },\n",
    "    \"transformer_embeds\": {\n",
    "        \"embed_train\": lambda x: embed(x),\n",
    "        \"embed_test\": lambda x: embed(x),\n",
    "    },\n",
    "}"
   ]
  },
  {
   "cell_type": "code",
   "execution_count": 40,
   "metadata": {},
   "outputs": [],
   "source": [
    "CLASSIFIERS: typing.Dict[str, typing.Callable] = {\n",
    "    # \"svc\": LinearSVC,\n",
    "    # \"random_forest\": RandomForestClassifier,\n",
    "    # \"ada_boost\": AdaBoostClassifier,\n",
    "    \"decision_tree\": DecisionTreeClassifier,\n",
    "    \"k_neighbors\": KNeighborsClassifier,\n",
    "    # \"mlp\": MLPClassifier,\n",
    "}"
   ]
  },
  {
   "cell_type": "code",
   "execution_count": 41,
   "metadata": {},
   "outputs": [
    {
     "data": {
      "application/vnd.jupyter.widget-view+json": {
       "model_id": "76c086961d8c40c1b4331b3023e7fb0c",
       "version_major": 2,
       "version_minor": 0
      },
      "text/plain": [
       "Output()"
      ]
     },
     "metadata": {},
     "output_type": "display_data"
    },
    {
     "data": {
      "text/html": [
       "<pre style=\"white-space:pre;overflow-x:auto;line-height:normal;font-family:Menlo,'DejaVu Sans Mono',consolas,'Courier New',monospace\"></pre>\n"
      ],
      "text/plain": []
     },
     "metadata": {},
     "output_type": "display_data"
    },
    {
     "data": {
      "application/vnd.jupyter.widget-view+json": {
       "model_id": "d577856c04604ee0935b41067caaf8e0",
       "version_major": 2,
       "version_minor": 0
      },
      "text/plain": [
       "Output()"
      ]
     },
     "metadata": {},
     "output_type": "display_data"
    },
    {
     "data": {
      "text/html": [
       "<pre style=\"white-space:pre;overflow-x:auto;line-height:normal;font-family:Menlo,'DejaVu Sans Mono',consolas,'Courier New',monospace\"></pre>\n"
      ],
      "text/plain": []
     },
     "metadata": {},
     "output_type": "display_data"
    }
   ],
   "source": [
    "results: typing.List[pandas.DataFrame] = []\n",
    "\n",
    "for encoder_label, encoder in ENCODERS.items():\n",
    "\n",
    "    embed_train = encoder[\"embed_train\"](DATA_TRAIN[\"text\"].tolist())\n",
    "    embed_test = encoder[\"embed_test\"](DATA_TEST[\"text\"].tolist())\n",
    "\n",
    "    results.append(\n",
    "        pandas.json_normalize(\n",
    "            data=[\n",
    "                classification_report(\n",
    "                    DATA_TEST[\"label\"].tolist(),\n",
    "                    (\n",
    "                        classifier()\n",
    "                        .fit(\n",
    "                                embed_train, \n",
    "                                DATA_TRAIN[\"label\"].tolist()\n",
    "                            )\n",
    "                        .predict(embed_test)\n",
    "                    ),\n",
    "                    zero_division=1.,\n",
    "                    output_dict=True\n",
    "                ) | {\"classifier\": classifier_label, \"encoder\": encoder_label}\n",
    "                for classifier_label, classifier in CLASSIFIERS.items()\n",
    "            ]\n",
    "        )\n",
    "        .set_index([\"encoder\", \"classifier\"], drop=True)\n",
    "        .filter(\n",
    "            items=[\n",
    "                \"accuracy\",\n",
    "                \"macro avg.f1-score\",\n",
    "                \"weighted avg.f1-score\"\n",
    "            ]\n",
    "        )\n",
    "        .sort_values(by=\"accuracy\", ascending=False)\n",
    "    )"
   ]
  },
  {
   "cell_type": "code",
   "execution_count": 42,
   "metadata": {},
   "outputs": [
    {
     "data": {
      "text/html": [
       "<div>\n",
       "<style scoped>\n",
       "    .dataframe tbody tr th:only-of-type {\n",
       "        vertical-align: middle;\n",
       "    }\n",
       "\n",
       "    .dataframe tbody tr th {\n",
       "        vertical-align: top;\n",
       "    }\n",
       "\n",
       "    .dataframe thead th {\n",
       "        text-align: right;\n",
       "    }\n",
       "</style>\n",
       "<table border=\"1\" class=\"dataframe\">\n",
       "  <thead>\n",
       "    <tr style=\"text-align: right;\">\n",
       "      <th></th>\n",
       "      <th></th>\n",
       "      <th>accuracy</th>\n",
       "      <th>macro avg.f1-score</th>\n",
       "      <th>weighted avg.f1-score</th>\n",
       "    </tr>\n",
       "    <tr>\n",
       "      <th>encoder</th>\n",
       "      <th>classifier</th>\n",
       "      <th></th>\n",
       "      <th></th>\n",
       "      <th></th>\n",
       "    </tr>\n",
       "  </thead>\n",
       "  <tbody>\n",
       "    <tr>\n",
       "      <th>tfidf</th>\n",
       "      <th>decision_tree</th>\n",
       "      <td>0.779805</td>\n",
       "      <td>0.779083</td>\n",
       "      <td>0.779390</td>\n",
       "    </tr>\n",
       "    <tr>\n",
       "      <th>transformer_embeds</th>\n",
       "      <th>k_neighbors</th>\n",
       "      <td>0.774939</td>\n",
       "      <td>0.774696</td>\n",
       "      <td>0.774876</td>\n",
       "    </tr>\n",
       "    <tr>\n",
       "      <th>tfidf</th>\n",
       "      <th>k_neighbors</th>\n",
       "      <td>0.739659</td>\n",
       "      <td>0.739399</td>\n",
       "      <td>0.739599</td>\n",
       "    </tr>\n",
       "    <tr>\n",
       "      <th>transformer_embeds</th>\n",
       "      <th>decision_tree</th>\n",
       "      <td>0.641119</td>\n",
       "      <td>0.641076</td>\n",
       "      <td>0.641172</td>\n",
       "    </tr>\n",
       "  </tbody>\n",
       "</table>\n",
       "</div>"
      ],
      "text/plain": [
       "                                  accuracy  macro avg.f1-score  \\\n",
       "encoder            classifier                                    \n",
       "tfidf              decision_tree  0.779805            0.779083   \n",
       "transformer_embeds k_neighbors    0.774939            0.774696   \n",
       "tfidf              k_neighbors    0.739659            0.739399   \n",
       "transformer_embeds decision_tree  0.641119            0.641076   \n",
       "\n",
       "                                  weighted avg.f1-score  \n",
       "encoder            classifier                            \n",
       "tfidf              decision_tree               0.779390  \n",
       "transformer_embeds k_neighbors                 0.774876  \n",
       "tfidf              k_neighbors                 0.739599  \n",
       "transformer_embeds decision_tree               0.641172  "
      ]
     },
     "execution_count": 42,
     "metadata": {},
     "output_type": "execute_result"
    }
   ],
   "source": [
    "pandas.concat(results).sort_values(by=\"weighted avg.f1-score\", ascending=False)"
   ]
  }
 ],
 "metadata": {
  "kernelspec": {
   "display_name": ".venv",
   "language": "python",
   "name": "python3"
  },
  "language_info": {
   "codemirror_mode": {
    "name": "ipython",
    "version": 3
   },
   "file_extension": ".py",
   "mimetype": "text/x-python",
   "name": "python",
   "nbconvert_exporter": "python",
   "pygments_lexer": "ipython3",
   "version": "3.10.12"
  }
 },
 "nbformat": 4,
 "nbformat_minor": 2
}
