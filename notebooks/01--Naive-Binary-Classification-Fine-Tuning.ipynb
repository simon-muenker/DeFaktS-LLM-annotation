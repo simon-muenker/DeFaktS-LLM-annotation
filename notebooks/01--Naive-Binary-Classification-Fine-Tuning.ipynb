{
 "cells": [
  {
   "cell_type": "code",
   "execution_count": 1,
   "metadata": {},
   "outputs": [],
   "source": [
    "import os\n",
    "\n",
    "os.environ[\"CUDA_VISIBLE_DEVICES\"] = \"2\""
   ]
  },
  {
   "cell_type": "code",
   "execution_count": 2,
   "metadata": {},
   "outputs": [],
   "source": [
    "import pandas\n",
    "import datasets\n",
    "\n",
    "import transformers\n",
    "\n",
    "from sklearn.metrics import precision_recall_fscore_support, accuracy_score"
   ]
  },
  {
   "cell_type": "code",
   "execution_count": 3,
   "metadata": {},
   "outputs": [],
   "source": [
    "DATA_FILE: str = \"../data/processed/DefaktS_Twitter.binary.csv\"\n",
    "TEST_FRAC: float = 0.10\n",
    "\n",
    "MODEL_SLUG: str = \"Twitter/twhin-bert-base\"\n",
    "\n",
    "OUT_DIR: str = \"./fine_tuning_ouput/\""
   ]
  },
  {
   "cell_type": "code",
   "execution_count": 4,
   "metadata": {},
   "outputs": [
    {
     "data": {
      "text/html": [
       "<div>\n",
       "<style scoped>\n",
       "    .dataframe tbody tr th:only-of-type {\n",
       "        vertical-align: middle;\n",
       "    }\n",
       "\n",
       "    .dataframe tbody tr th {\n",
       "        vertical-align: top;\n",
       "    }\n",
       "\n",
       "    .dataframe thead th {\n",
       "        text-align: right;\n",
       "    }\n",
       "</style>\n",
       "<table border=\"1\" class=\"dataframe\">\n",
       "  <thead>\n",
       "    <tr style=\"text-align: right;\">\n",
       "      <th></th>\n",
       "      <th>text</th>\n",
       "      <th>label</th>\n",
       "    </tr>\n",
       "    <tr>\n",
       "      <th>id</th>\n",
       "      <th></th>\n",
       "      <th></th>\n",
       "    </tr>\n",
       "  </thead>\n",
       "  <tbody>\n",
       "    <tr>\n",
       "      <th>428142</th>\n",
       "      <td>Die Menschen in Belutschistan hören nicht auf,...</td>\n",
       "      <td>0</td>\n",
       "    </tr>\n",
       "    <tr>\n",
       "      <th>387854</th>\n",
       "      <td>Im #Iran geht das Regime nicht nur in #Kurdist...</td>\n",
       "      <td>0</td>\n",
       "    </tr>\n",
       "    <tr>\n",
       "      <th>407119</th>\n",
       "      <td>US-Jury spricht Elon #Musk im Betrugsprozess u...</td>\n",
       "      <td>0</td>\n",
       "    </tr>\n",
       "    <tr>\n",
       "      <th>392035</th>\n",
       "      <td>Führende Fachpolitiker von Grünen und SPD im B...</td>\n",
       "      <td>0</td>\n",
       "    </tr>\n",
       "    <tr>\n",
       "      <th>407800</th>\n",
       "      <td>Hyundai Ioniq 6 Electrified Streamliner\\nab 29...</td>\n",
       "      <td>0</td>\n",
       "    </tr>\n",
       "  </tbody>\n",
       "</table>\n",
       "</div>"
      ],
      "text/plain": [
       "                                                     text  label\n",
       "id                                                              \n",
       "428142  Die Menschen in Belutschistan hören nicht auf,...      0\n",
       "387854  Im #Iran geht das Regime nicht nur in #Kurdist...      0\n",
       "407119  US-Jury spricht Elon #Musk im Betrugsprozess u...      0\n",
       "392035  Führende Fachpolitiker von Grünen und SPD im B...      0\n",
       "407800  Hyundai Ioniq 6 Electrified Streamliner\\nab 29...      0"
      ]
     },
     "execution_count": 4,
     "metadata": {},
     "output_type": "execute_result"
    }
   ],
   "source": [
    "DATA: pandas.DataFrame = (\n",
    "    pandas.read_csv(DATA_FILE, index_col=[0])\n",
    "    .rename(columns={\"binary_label\": \"label\"})\n",
    "\n",
    "    # remove urls\n",
    "    .pipe(lambda _df: _df.assign(\n",
    "        text=(\n",
    "            _df[\"text\"]\n",
    "            # replace urls with special token\n",
    "            .str.replace(r\"https:\\/\\/t.co\\/\\S+\", \"[URL]\", regex=True)\n",
    "        ),\n",
    "        label=(\n",
    "            _df[\"label\"].astype(int)\n",
    "        )\n",
    "    ))\n",
    "\n",
    "    # downsample to smallest category\n",
    "    .pipe(lambda _df: (\n",
    "        _df\n",
    "        .groupby(\"label\")\n",
    "        .sample(n=min(_df[\"label\"].value_counts()))\n",
    "    ))\n",
    ")\n",
    "DATA.head()"
   ]
  },
  {
   "cell_type": "code",
   "execution_count": 5,
   "metadata": {},
   "outputs": [
    {
     "data": {
      "text/plain": [
       "(14805, 1645, 2)"
      ]
     },
     "execution_count": 5,
     "metadata": {},
     "output_type": "execute_result"
    }
   ],
   "source": [
    "DATA_TRAIN = DATA.sample(frac=1.0 - TEST_FRAC)\n",
    "DATA_TEST = DATA.loc[DATA.index.difference(DATA_TRAIN.index)]\n",
    "\n",
    "DATASET_TRAIN = datasets.Dataset.from_pandas(DATA_TRAIN, split=\"train\")\n",
    "DATASET_TEST = datasets.Dataset.from_pandas(DATA_TEST, split=\"test\")\n",
    "\n",
    "len(DATASET_TRAIN), len(DATASET_TEST), DATA_TRAIN.label.nunique()"
   ]
  },
  {
   "cell_type": "code",
   "execution_count": 6,
   "metadata": {},
   "outputs": [
    {
     "data": {
      "text/plain": [
       "{'text': ['Immer Details, die Abtreibungsfans verschweigen/verstecken:\\n[URL]\\n\"Mädchen war sich der Schwangerschaft nicht bewusst\"\\n\\nOben schreibt man:\\n\"Doch nun wurde einem Teenager der Schwangerschaftsabbruch trotzdem verwehrt\"\\n\\nNein, ihr wurde Abtreibung nicht verwert,',\n",
       "  'Wir sind hier in D und nicht in der #UK. Was interessiert hier, wenn in der UK ein Reisesack umfällt. In D wollen wir nicht, das Kinder im Bauch ihrer Mütter getötet werden. Wir verteidigen das #Menschenrecht auf Leben für Alle und bekämpfen es nicht. #Abtreibung ist #MORD',\n",
       "  'Fristenregelung gut genug: Abtreibung soll in der Schweiz strafbar bleiben [URL]',\n",
       "  'Es ist wieder mal Zeit für ein teuflisch gutes Thema! - Manches kann man halt nur noch mit einem kräftigen Schluck aus der Sarkasmusflasche ertragen. [URL] #ProChoice #ProLife #AbortionIsHealthcare #Abtreibung',\n",
       "  '[dieStandard - [URL] Frankreich will Recht auf Abtreibung in der Verfassung verankern [URL]',\n",
       "  'Ach ja anti Abtreibung natürlich auch lel',\n",
       "  'Polen: Sie ist 14 Jahre alt, wurde von ihrem eigenen Onkel vergewaltigt und dadurch schwanger. Trotzdem lehnen es zwei Krankenhäuser ab, eine Abtreibung durchzuführen. Möglich macht das eine sogenannte \"Gewissensklausel\". [URL]',\n",
       "  'Abtreibung: Senat spricht sich für Verankerung in der französischen Verfassung aus [URL] #Nachrichten #Frankreich [URL]',\n",
       "  '#MeineGesundheitMeineWahl Wir rufen die Rechtskommission des Nationalrats auf, die Initiative von @leonoreporchet zu unterstützen, damit #Abtreibung, die im Strafgesetzbuch verankert ist, nicht mehr als Straftat mit möglichen Ausnahmen betrachtet wird.👉[URL] [URL]',\n",
       "  'Wo finden Frauen u Mädchen mit Behinderung Hilfe nach Missbrauch oder einer Vergewaltigung Hilfe,medizinische Versorgung und die Möglichkeit einer #Abtreibung \\n\\nIn #Polen gerade schier unmöglich\\n\\nNoch immer ist jede 2. behinderte Frau Opfer von Gewalt #AbortionRights',\n",
       "  '🇩🇪Babys werden lebend geliefert, ihr Herz wird ohne Betäubung herausgeschnitten,um Impfstoffe zu entwickeln \"Das ist wirklich schrecklich, mir fehlen die Worte. 😖 Aber verstehen Sie, dies ist einer der Gründe ist, warum jene, die die Kontrolle haben, so stark für Abtreibung sind',\n",
       "  'Hier der erste Kommentar zur Antwort der EKD nach meinem Anruf. Dieser bezieht sich auf die Abschaffung des §219a und Abtreibung.\\n\\nSchlimm was sich die Kirche leistet.\\n\\n[URL]',\n",
       "  'Top story: Polen: Verweigerte Abtreibung für 14-Jährige nach Vergewaltigung - WELT [URL] see more [URL]',\n",
       "  '1/5 Mir wird immer entgegengehalten, ich dürfe mich ja gar nicht zum Thema \"#Abtreibung\" äußern, weil ich nicht schwanger werden könne. Nun muss ich auch kein Auto fahren, um einschätzen zu können, dass überhöhte Geschwindigkeit gefährlich ist.',\n",
       "  \"#Abtreibung's-Debatte:\\nKind nach der Geburt: 😊😍🥳🥰\\nKind vor der Geburt: \\U0001fae3😳😵🤬\\n\\nWertvoll dank des magischen Geburtskanals. ✨\\n[URL]\",\n",
       "  'S2k-Leitlinie: Schwangerschaftsabbruch im 1. Trimenon\\nDer Schwangerschaftsabbruch ist in Deutschland im Strafgesetzbuch gesetzlich verankert.\\n#Abtreibung #Interruptio #Leitlinien #S2kLeitlinie #Schwangerschaftsabbruch\\n\\n[URL] [URL]',\n",
       "  'Ist Abtreibung nicht Mord?🤔',\n",
       "  'Und 70 Million Babies weltweit sterben durch Abtreibung!',\n",
       "  'In Amerika \"dürfen\" unter dem katholischen Präsidenten Kinder, die man durch Abtreibung nicht getötet hat, umgebracht werden.\\nMir hat es die Sprache verschlagen.\\nAuf jeden fall \"morden\" auch wenn es nicht durch med. Einschnitt gelang?\\nUngeheurlich im Land der unbegrenzt..Möglichk',\n",
       "  'Wie zu erwarten war, gibt es keinen Mangel an Versuchen, Abtreibung zu legitimieren, aber es gibt auch Hinweise auf den jüngsten UN-Bildungsgipfel, über den @OrdoIuris  bereits berichtete.',\n",
       "  '78 Jahre nach #Auschwitz: neue Leitlinie für das Töten von Menschen vor ihrer Geburt. Die „Heutigen“ haben von den damaligen Schergen offensichtlich nichts gelernt.“Nie Wieder“ ist ein Schmäh! #abtreibung @haenel_kh',\n",
       "  'USA so: „Abtreibung? Nein danke! Bei uns werden die Kinder erst später n ei einem Amoklauf in der Schule getötet!“',\n",
       "  '[URL] - Wann lenken wir den Fokus weg von der \"Versorgungssituation\" (als ob #Schwangerschaft eine Krankheit wäre) in Sachen #Abtreibung und führen ihn hin zur Verbesserung familienfördernder Maßnahmen sowie der Stärkung einer lebensbejahenden Gesellschaft?',\n",
       "  'Halte morgen eine Präsentation über Abtreibung boaah es nervt ich hasse das thema eig aber meine teamopfer wollten unbedingt abortion',\n",
       "  'immer wenn twitter langweilig wird kommt laura mit ihrem wöchentlichen twitter family post #abtreibung',\n",
       "  '#Abtreibung ist... - wie würdest du den Satz vervollständigen? Wir sind gespannt auf eure Antworten.',\n",
       "  '[URL] - Dennis Riehle: \"Versöhnung beim Thema \\'#Abtreibung\\' kann es nur geben, wenn neben dem Selbstbestimmungsrecht der Frau auch der #Lebensschutz des Fötus anerkannt und beide Ansprüche gleichwertig miteinander abgewogen werden!\"',\n",
       "  'Aktivistinnen kämpfen für ein Recht auf #Abtreibung in #Ägypten. Wichtiges Thema, das  Frauenrechtsorganisationen kaum  auf der Agenda haben. @QantaraDE [URL] #gender',\n",
       "  'Immer weniger Ärzt*innen führen Schwangerschaftsabbrüche durch. Deshalb gibt es in vielen Städten und Regionen bereits jetzt Probleme, einen Arzt oder eine Ärztin für eine Abtreibung zu finden. Dabei sind manche Regionen schwerer betroffen als andere. #bawue #sab #prochoice [URL]',\n",
       "  'Eine #Abtreibung ist keine Lösung, denn sie lässt zwei #Opfer zurück. [URL]',\n",
       "  'Im modernen Staat ist das Besitzrecht am Kind vom Vater auf Vater Staat übergegangen. Der Staat entscheidet über das Sorgerecht, das damit vaterrechtlich bleibt. Daher dürfen Schwangere nicht selbst über Abtreibung entscheiden und so werden Mütter an den Vater gekettet.',\n",
       "  'Meine erste Blockempfehlung: Sie ist gegen Impfen, gegen Ukraine, gegen Abtreibung usw...und gegen die Wissenchaft!!! 🤦Lest und urteilt selber!!!👇👇👇😬 [URL]',\n",
       "  'Wurde im BRD TV hoch gelobt - soweit ich mich erinnere hat sie Abtreibung bis zum 9 Monat legalisiert - also eine eiskalte Killerin, auf Deutsch Mörderweib.',\n",
       "  'Rieke legt beim Thema Abtreibung nach. Die Talking Points zwischen rechts-konservativ und  dem #TERF-Kult überschneiden sich natürlich ganz zufällig. \"Links, not woke\" 🤡. Der Backlash, den Frauen durch den #TERF-Kult erwarten dürfen, wird fundamentale Rechte einschränken. [URL]',\n",
       "  'Nachdem die brasilianische Regierung den Rückzug aus der Genfer Konsenserklärung bekannt gab, äußerte sich nun Kardinal Odilo Scherer, der Erzbischof von São Paulo, dazu: \\n\"Die katholische Kirche ist nicht für Abtreibung! Sie ist nicht, war nie und wird nie für Abtreibung sein.\"',\n",
       "  'Der Status ([URL]\\nBlutiges Geschäft: Abtreibung für mRNA-Spritzen\\nFür die Entwicklung des Covid-19 Impfstoffes verwendete der Pharma-Gigant Pfizer humane Stammzellen aus embryonalem Gewebe. Dies bestätigte kürzlich die US- amerikanische Whistleblower-Organisati',\n",
       "  'Die spanischen Rechtspopulisten wollen Frauen anbieten, dass sie vor einer Abtreibung ein Ultraschallbild des Fötus erhalten und dessen Herztöne anhören. Die linke Regierung weist den Vorstoß zurück. [URL]',\n",
       "  '[URL] Neugewähltes Repräsentantenhaus schützt Babys, die ihre Abtreibung überleben: (Washington) Sarah Zagorski überlebte ihre eigene Abtreibung. Heute ist sie eine der wirkmächtigsten Verteidigerinnen des Lebensrechts ungeborener… [URL]',\n",
       "  '§ 225 Mißhandlung von Schutzbefohlenen\\n\\nAch so. Warum ist dann spaßeshalbere Abtreibung legal?',\n",
       "  'svp politiker immobilien nachdem sie sich für babyklappen, traditionelle familien und anti-abtreibung eingesetzt hat: [URL]',\n",
       "  'Wäre es dann nicht fair, einer Frau für jede #Abtreibung das Budget um die dadurch eingesparten 3 Tonnen pro Jahr zu erhöhen?\\nOder müssen Eltern zukünftig ihr Budget mit dem Nachwuchs teilen? Darf man sein Budget wie eine Organspende weitergeben? \\n#Ethik\\n\\n[URL]',\n",
       "  'Daily reminder daß Abtreibung Mord ist',\n",
       "  '#Abtreibung ist die wohl grausigste Art der Körperverletzung. 🧑\\u200d🔧',\n",
       "  'Meine Interpretation des Bildes:\\n\\nSolange Abtreibung nicht völlig freigegeben ist, sind Frauen Sklavinnen/Gefolterte ihres Uterus.\\n\\nWer also gegen die völlige Freigabe ist, quält Frauen, und ist ein Monster, gegen das gekämpft werden muss.\\n\\nIn katholischen Kontext heißt das, da',\n",
       "  'Unsere Familienministerin Lisa Paus will die Frauen alleine entscheiden lassen, ohne Beratung. \\n\\nGerade aber die potentiellen Väter machen den Druck zur Abtreibung auf die Frauen.\\n\\nWenn man die zwölfte Woche aufweicht, dann kommen jede Menge Abtreibungen wegen des Geschlechts.',\n",
       "  'Johannes Paul II. wollte mit seiner Aufforderung an die deutschen Bischöfe ein Signal für den Lebensschutz setzen. So wurde das Thema Abtreibung zur Zerreißprobe für die Kirche.  [URL]',\n",
       "  'Papst gegen „Recht\" auf Abtreibung und Todesstrafe\\n\\nAußerdem warnte er vor einer Gesinnungsdiktatur, die Intoleranz gegenüber Kritikern der vermeintlichen \\'Fortschritts-Positionen\\' fördert.\\n\\n[URL] [URL]',\n",
       "  '#Servicetweet für @lisapaus. Der Tod tritt bei einer #Abtreibung unter großen Schmerzen und Ängsten ein. Das Herz hört auf zu schlagen, wenn der Körper das Leiden und den Blutverlust nicht mehr ertragen kann. Allen Befürwortern dieser Grausamkeit sei beigefügtes Video empfohlen.',\n",
       "  'Das Misstrauen der Patienten und der schlechte Zugang behindern die Bemühungen des Bundes, die Familienplanung zu überarbeiten #Abtreibung #Apotheke #Armut #Arzt #Baby #Depo_Provera #Empfängnisverhütung #Frauengesundheit #Geburtenkontrolle #Gesundes_L...\\n[URL]',\n",
       "  'Menschsein zeichnet unteranderem aus, dass Viele in einer Notsituation selbst für fremde Kinder ihr eigenes Leben riskieren - die Anderen wählen die #Grünen. #Abtreibung'],\n",
       " 'label': [0,\n",
       "  1,\n",
       "  0,\n",
       "  0,\n",
       "  0,\n",
       "  0,\n",
       "  0,\n",
       "  0,\n",
       "  0,\n",
       "  0,\n",
       "  1,\n",
       "  0,\n",
       "  0,\n",
       "  0,\n",
       "  0,\n",
       "  0,\n",
       "  1,\n",
       "  0,\n",
       "  1,\n",
       "  0,\n",
       "  1,\n",
       "  0,\n",
       "  0,\n",
       "  0,\n",
       "  0,\n",
       "  0,\n",
       "  0,\n",
       "  0,\n",
       "  0,\n",
       "  0,\n",
       "  0,\n",
       "  0,\n",
       "  1,\n",
       "  0,\n",
       "  0,\n",
       "  1,\n",
       "  0,\n",
       "  0,\n",
       "  0,\n",
       "  0,\n",
       "  0,\n",
       "  1,\n",
       "  0,\n",
       "  0,\n",
       "  1,\n",
       "  0,\n",
       "  0,\n",
       "  0,\n",
       "  0,\n",
       "  1],\n",
       " 'id': [378406,\n",
       "  378427,\n",
       "  378436,\n",
       "  378443,\n",
       "  378455,\n",
       "  378457,\n",
       "  378463,\n",
       "  378464,\n",
       "  378473,\n",
       "  378501,\n",
       "  378506,\n",
       "  378531,\n",
       "  378537,\n",
       "  378548,\n",
       "  378574,\n",
       "  378582,\n",
       "  378583,\n",
       "  378614,\n",
       "  378620,\n",
       "  378636,\n",
       "  378641,\n",
       "  378651,\n",
       "  378659,\n",
       "  378667,\n",
       "  378684,\n",
       "  378688,\n",
       "  378693,\n",
       "  378699,\n",
       "  378707,\n",
       "  378718,\n",
       "  378741,\n",
       "  378770,\n",
       "  378790,\n",
       "  378804,\n",
       "  378809,\n",
       "  378814,\n",
       "  378839,\n",
       "  378848,\n",
       "  378849,\n",
       "  378851,\n",
       "  378885,\n",
       "  378892,\n",
       "  378896,\n",
       "  378907,\n",
       "  378928,\n",
       "  378947,\n",
       "  378976,\n",
       "  378982,\n",
       "  378990,\n",
       "  379031]}"
      ]
     },
     "execution_count": 6,
     "metadata": {},
     "output_type": "execute_result"
    }
   ],
   "source": [
    "DATASET_TEST[0:50]"
   ]
  },
  {
   "cell_type": "code",
   "execution_count": 7,
   "metadata": {},
   "outputs": [
    {
     "name": "stderr",
     "output_type": "stream",
     "text": [
      "Some weights of BertForSequenceClassification were not initialized from the model checkpoint at Twitter/twhin-bert-base and are newly initialized: ['bert.pooler.dense.bias', 'bert.pooler.dense.weight', 'classifier.bias', 'classifier.weight']\n",
      "You should probably TRAIN this model on a down-stream task to be able to use it for predictions and inference.\n"
     ]
    }
   ],
   "source": [
    "TOKENIZER = transformers.AutoTokenizer.from_pretrained(MODEL_SLUG)\n",
    "MODEL = transformers.AutoModelForSequenceClassification.from_pretrained(MODEL_SLUG, num_labels=DATA_TRAIN.label.nunique())"
   ]
  },
  {
   "cell_type": "code",
   "execution_count": 8,
   "metadata": {},
   "outputs": [],
   "source": [
    "def tokenize_function(sample):\n",
    "    return TOKENIZER(sample[\"text\"], padding=\"max_length\", truncation=True, max_length=512)"
   ]
  },
  {
   "cell_type": "code",
   "execution_count": 9,
   "metadata": {},
   "outputs": [
    {
     "data": {
      "application/vnd.jupyter.widget-view+json": {
       "model_id": "7618e87994b945b582ee10b32c45df1f",
       "version_major": 2,
       "version_minor": 0
      },
      "text/plain": [
       "Map:   0%|          | 0/14805 [00:00<?, ? examples/s]"
      ]
     },
     "metadata": {},
     "output_type": "display_data"
    },
    {
     "data": {
      "application/vnd.jupyter.widget-view+json": {
       "model_id": "56064f374da54074aa1c49f04b4515cc",
       "version_major": 2,
       "version_minor": 0
      },
      "text/plain": [
       "Map:   0%|          | 0/1645 [00:00<?, ? examples/s]"
      ]
     },
     "metadata": {},
     "output_type": "display_data"
    }
   ],
   "source": [
    "train_tokenized_dataset = DATASET_TRAIN.map(tokenize_function, batched=True)\n",
    "test_tokenized_dataset = DATASET_TEST.map(tokenize_function, batched=True)"
   ]
  },
  {
   "cell_type": "code",
   "execution_count": 10,
   "metadata": {},
   "outputs": [],
   "source": [
    "def compute_metrics(pred):\n",
    "    labels = pred.label_ids\n",
    "    preds = pred.predictions.argmax(-1)\n",
    "    precision, recall, f1, _ = precision_recall_fscore_support(labels, preds, average='macro', zero_division=0.0)\n",
    "    acc = accuracy_score(labels, preds)\n",
    "\n",
    "    return {\n",
    "        'accuracy': acc,\n",
    "        'f1': f1,\n",
    "        'precision': precision,\n",
    "        'recall': recall,\n",
    "    }\n",
    "\n",
    "trainer = transformers.Trainer(\n",
    "    model=MODEL,\n",
    "    args=transformers.TrainingArguments(\n",
    "        num_train_epochs=3,\n",
    "        per_device_train_batch_size=32,\n",
    "        per_device_eval_batch_size=32,\n",
    "        output_dir=OUT_DIR,\n",
    "        overwrite_output_dir=True,\n",
    "        save_total_limit=1,\n",
    "        logging_first_step=True,\n",
    "        logging_steps=50,\n",
    "        eval_strategy=\"steps\"\n",
    "    ),\n",
    "    train_dataset=train_tokenized_dataset,\n",
    "    eval_dataset=test_tokenized_dataset,\n",
    "    compute_metrics=compute_metrics,\n",
    ")"
   ]
  },
  {
   "cell_type": "code",
   "execution_count": null,
   "metadata": {},
   "outputs": [
    {
     "name": "stderr",
     "output_type": "stream",
     "text": [
      "BertSdpaSelfAttention is used but `torch.nn.functional.scaled_dot_product_attention` does not support non-absolute `position_embedding_type` or `output_attentions=True` or `head_mask`. Falling back to the manual attention implementation, but specifying the manual implementation will be required from Transformers version v5.0.0 onwards. This warning can be removed using the argument `attn_implementation=\"eager\"` when loading the model.\n"
     ]
    },
    {
     "data": {
      "text/html": [
       "\n",
       "    <div>\n",
       "      \n",
       "      <progress value='144' max='1389' style='width:300px; height:20px; vertical-align: middle;'></progress>\n",
       "      [ 144/1389 01:43 < 15:08, 1.37 it/s, Epoch 0.31/3]\n",
       "    </div>\n",
       "    <table border=\"1\" class=\"dataframe\">\n",
       "  <thead>\n",
       " <tr style=\"text-align: left;\">\n",
       "      <th>Step</th>\n",
       "      <th>Training Loss</th>\n",
       "      <th>Validation Loss</th>\n",
       "      <th>Accuracy</th>\n",
       "      <th>F1</th>\n",
       "      <th>Precision</th>\n",
       "      <th>Recall</th>\n",
       "    </tr>\n",
       "  </thead>\n",
       "  <tbody>\n",
       "    <tr>\n",
       "      <td>50</td>\n",
       "      <td>0.594100</td>\n",
       "      <td>0.484997</td>\n",
       "      <td>0.758055</td>\n",
       "      <td>0.754955</td>\n",
       "      <td>0.775115</td>\n",
       "      <td>0.759614</td>\n",
       "    </tr>\n",
       "    <tr>\n",
       "      <td>100</td>\n",
       "      <td>0.486000</td>\n",
       "      <td>0.445908</td>\n",
       "      <td>0.794529</td>\n",
       "      <td>0.792783</td>\n",
       "      <td>0.807643</td>\n",
       "      <td>0.795830</td>\n",
       "    </tr>\n",
       "  </tbody>\n",
       "</table><p>"
      ],
      "text/plain": [
       "<IPython.core.display.HTML object>"
      ]
     },
     "metadata": {},
     "output_type": "display_data"
    }
   ],
   "source": [
    "trainer.train()"
   ]
  }
 ],
 "metadata": {
  "kernelspec": {
   "display_name": ".venv",
   "language": "python",
   "name": "python3"
  },
  "language_info": {
   "codemirror_mode": {
    "name": "ipython",
    "version": 3
   },
   "file_extension": ".py",
   "mimetype": "text/x-python",
   "name": "python",
   "nbconvert_exporter": "python",
   "pygments_lexer": "ipython3",
   "version": "3.10.12"
  }
 },
 "nbformat": 4,
 "nbformat_minor": 2
}
