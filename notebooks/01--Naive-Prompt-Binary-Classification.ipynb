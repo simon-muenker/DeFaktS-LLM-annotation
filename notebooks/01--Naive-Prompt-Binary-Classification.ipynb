{
 "cells": [
  {
   "cell_type": "code",
   "execution_count": 1,
   "metadata": {},
   "outputs": [],
   "source": [
    "import pandas\n",
    "import sklearn.metrics\n",
    "\n",
    "import cltrier_lib"
   ]
  },
  {
   "cell_type": "code",
   "execution_count": 2,
   "metadata": {},
   "outputs": [],
   "source": [
    "DATA_FILE: str = \"../data/processed/DefaktS_Twitter.binary.csv\"\n",
    "N_SAMPLES: int = 500"
   ]
  },
  {
   "cell_type": "code",
   "execution_count": 3,
   "metadata": {},
   "outputs": [
    {
     "data": {
      "text/html": [
       "<div>\n",
       "<style scoped>\n",
       "    .dataframe tbody tr th:only-of-type {\n",
       "        vertical-align: middle;\n",
       "    }\n",
       "\n",
       "    .dataframe tbody tr th {\n",
       "        vertical-align: top;\n",
       "    }\n",
       "\n",
       "    .dataframe thead th {\n",
       "        text-align: right;\n",
       "    }\n",
       "</style>\n",
       "<table border=\"1\" class=\"dataframe\">\n",
       "  <thead>\n",
       "    <tr style=\"text-align: right;\">\n",
       "      <th></th>\n",
       "      <th>text</th>\n",
       "      <th>binary_label</th>\n",
       "    </tr>\n",
       "    <tr>\n",
       "      <th>id</th>\n",
       "      <th></th>\n",
       "      <th></th>\n",
       "    </tr>\n",
       "  </thead>\n",
       "  <tbody>\n",
       "    <tr>\n",
       "      <th>391568</th>\n",
       "      <td>»Es kann nicht die Aufgabe eines Politikers se...</td>\n",
       "      <td>neutral_post</td>\n",
       "    </tr>\n",
       "    <tr>\n",
       "      <th>385422</th>\n",
       "      <td>#Schönbohm wehrt sich gegen Arbeitsverbot http...</td>\n",
       "      <td>neutral_post</td>\n",
       "    </tr>\n",
       "    <tr>\n",
       "      <th>392193</th>\n",
       "      <td>Erster Gesetzesvorschlag der AfD wird umgesetz...</td>\n",
       "      <td>possible_fake_news</td>\n",
       "    </tr>\n",
       "    <tr>\n",
       "      <th>385675</th>\n",
       "      <td>Niedersachsen droht Impfgegnern mit Bußgeld un...</td>\n",
       "      <td>neutral_post</td>\n",
       "    </tr>\n",
       "    <tr>\n",
       "      <th>389160</th>\n",
       "      <td>Seit 2015 immer wieder Angriffe mitten in D! D...</td>\n",
       "      <td>possible_fake_news</td>\n",
       "    </tr>\n",
       "  </tbody>\n",
       "</table>\n",
       "</div>"
      ],
      "text/plain": [
       "                                                     text        binary_label\n",
       "id                                                                           \n",
       "391568  »Es kann nicht die Aufgabe eines Politikers se...        neutral_post\n",
       "385422  #Schönbohm wehrt sich gegen Arbeitsverbot http...        neutral_post\n",
       "392193  Erster Gesetzesvorschlag der AfD wird umgesetz...  possible_fake_news\n",
       "385675  Niedersachsen droht Impfgegnern mit Bußgeld un...        neutral_post\n",
       "389160  Seit 2015 immer wieder Angriffe mitten in D! D...  possible_fake_news"
      ]
     },
     "execution_count": 3,
     "metadata": {},
     "output_type": "execute_result"
    }
   ],
   "source": [
    "dataset: pandas.DataFrame = (\n",
    "    pandas.read_csv(DATA_FILE, index_col=[0])\n",
    "    .replace(dict(binary_label={0.0: \"neutral_post\", 1.0: \"possible_fake_news\"}))\n",
    "    .sample(n=N_SAMPLES)\n",
    ")\n",
    "dataset.head()"
   ]
  },
  {
   "cell_type": "code",
   "execution_count": 4,
   "metadata": {},
   "outputs": [
    {
     "data": {
      "text/plain": [
       "binary_label\n",
       "neutral_post          309\n",
       "possible_fake_news    191\n",
       "Name: count, dtype: int64"
      ]
     },
     "execution_count": 4,
     "metadata": {},
     "output_type": "execute_result"
    }
   ],
   "source": [
    "dataset[\"binary_label\"].value_counts()"
   ]
  },
  {
   "cell_type": "code",
   "execution_count": 6,
   "metadata": {},
   "outputs": [],
   "source": [
    "inference = cltrier_lib.inference.Pipeline(nmodel=\"llama3.1:70b-instruct-q6_K\")\n",
    "\n",
    "instruction = cltrier_lib.inference.schemas.Chat(messages=[\n",
    "    cltrier_lib.inference.schemas.Message(\n",
    "        role=\"system\",\n",
    "        content=\\\n",
    "\"\"\"You are a specialized content analyzer focused on identifying potential misinformation in social media posts. Your task is to classify tweets into two categories: neutral_post or possible_fake_news.\n",
    "\n",
    "Fake News Characteristics: \n",
    "\n",
    "- Disinformation exhibits a higher degree of contentual inconsistencies like semantic contradictions or logic errors throughout the text.\n",
    "- The body of unreliable articles adds relatively little new information, but serves to repeat and enhance the claims made at the beginning.\n",
    "- Unreliable articles frequently narrate in terms of a clear friend-foe-distinction with regard to specific national, ethical, or religious groups or elites as foes or perpetrators. The opposing group (often framed in a common \"we\", \"ourselves\", \"the government\") takes the part of the victim who needs to be protected. \n",
    "- Unreliable sources incline to use a more emotionally persuasive language and touch more often sensible subjects (like children, death and burial).\n",
    "- Fake articles tend to be written in a hyperbolic way to attract the reader's attention, i.e. with a high usage of all-caps-words, exclamation marks or a general sentiment wording.\n",
    "- Legitimate sources tend to report about past events whereas fake articles focus on highly recent topics.\n",
    "- Fake articles use a higher amount of hedging words (like 'possibly', 'usually', 'tend to be') to achieve a more indirect form of expression. Also they evoke a feeling of uncertainty by addressing the vagueness of information directly. \n",
    "- Content that calls on supposedly scientific research or reputable institutions without identifying concrete sources or by manipulating them to create a false theory.\n",
    "- Stories that lack any factual ground or manipulated information or image. The intention is to deceive and cause harm. Could be text or visual media. \n",
    "- Real information is being presented in a false context. The recipient is aware that the information is true, but he does not realize that the context has been changed.\n",
    "- Stories without factual basis which usually explain important events as secret plots by government or powerful individuals. By definition their truthfulness is difficult to verify. Evidence refuting the conspiracy is regarded as further proof of the conspiracy.\n",
    "- Information that is created by a political entity to influence public opinion and gain support for a public figure, organization or government.\n",
    "- Posts that are pure opinion, comics, satire, or any other posts that do not make a factual claim. This is also the category to use for posts that are of the \"Like this if you think...\" variety.\n",
    "\n",
    "If the tweets exhibits one of the above described charactericts classify it possible_fake_news else classify it as neutral_post. Respond only with the classname. Omit justifications.\n",
    "\n",
    "Examples:\n",
    "\n",
    "Ich bin für ein Arbeitsverbot für Ungeimpfte und Impfgegner\n",
    "neutral_post\n",
    "\n",
    "Pädophile Regierung #IRGCterrorists\n",
    "possible_fake_news\n",
    "\n",
    "Hab noch schnell die Proben für den Giardientest zur Tierarztpraxis gebracht und wenn heute keine Katastrophen mehr passieren, ist für den Rest des Tages Ruhe angesagt\n",
    "neutral_post\n",
    "\n",
    "In Belgien hat nur die „#Partyszene“ wieder etwas gefeiert. \\n\\nKein Grund zur Aufregung!\\n\\nMachen Deutsche auch!\\n\\nHamburg #G7 und so.\n",
    "possible_fake_news\n",
    "\"\"\"\n",
    "    )\n",
    "])"
   ]
  },
  {
   "cell_type": "code",
   "execution_count": 7,
   "metadata": {},
   "outputs": [],
   "source": [
    "labels = []\n",
    "preds = []\n",
    "\n",
    "for id, sample in dataset.iterrows():\n",
    "    response = inference(\n",
    "        instruction.add_message(\n",
    "            cltrier_lib.inference.schemas.Message(\n",
    "                role=\"user\",\n",
    "                content=sample[\"text\"]\n",
    "            )\n",
    "        )\n",
    "    )[-1].content\n",
    "\n",
    "    if response not in [\"neutral_post\", \"possible_fake_news\"]:\n",
    "        response = \"neutral_post\"\n",
    "\n",
    "    labels.append(sample[\"binary_label\"])\n",
    "    preds.append(response)"
   ]
  },
  {
   "cell_type": "code",
   "execution_count": 9,
   "metadata": {},
   "outputs": [
    {
     "name": "stdout",
     "output_type": "stream",
     "text": [
      "                    precision    recall  f1-score   support\n",
      "\n",
      "      neutral_post       0.67      0.74      0.70       309\n",
      "possible_fake_news       0.49      0.40      0.44       191\n",
      "\n",
      "          accuracy                           0.61       500\n",
      "         macro avg       0.58      0.57      0.57       500\n",
      "      weighted avg       0.60      0.61      0.60       500\n",
      "\n"
     ]
    }
   ],
   "source": [
    "print(sklearn.metrics.classification_report(labels, preds, zero_division=0.0))"
   ]
  }
 ],
 "metadata": {
  "kernelspec": {
   "display_name": ".venv",
   "language": "python",
   "name": "python3"
  },
  "language_info": {
   "codemirror_mode": {
    "name": "ipython",
    "version": 3
   },
   "file_extension": ".py",
   "mimetype": "text/x-python",
   "name": "python",
   "nbconvert_exporter": "python",
   "pygments_lexer": "ipython3",
   "version": "3.12.7"
  }
 },
 "nbformat": 4,
 "nbformat_minor": 2
}
